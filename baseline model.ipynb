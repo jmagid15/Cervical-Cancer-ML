{
 "cells": [
  {
   "cell_type": "code",
   "execution_count": 103,
   "metadata": {},
   "outputs": [],
   "source": [
    "import pandas as pd\n",
    "import matplotlib.pyplot as plt\n",
    "import seaborn as sns\n",
    "sns.set_style('darkgrid')\n",
    "import numpy as np\n",
    "from scipy.stats import norm\n",
    "from sklearn.preprocessing import StandardScaler\n",
    "from scipy import stats\n",
    "import warnings\n",
    "from sklearn.model_selection import KFold\n",
    "from matplotlib.pyplot import plot\n",
    "warnings.filterwarnings('ignore')\n",
    "%matplotlib inline"
   ]
  },
  {
   "cell_type": "code",
   "execution_count": 104,
   "metadata": {
    "collapsed": true
   },
   "outputs": [],
   "source": [
    "import numpy as np # linear algebra\n",
    "import pandas as pd # data processing, CSV file I/O (e.g. pd.read_csv)\n",
    "import seaborn as sns\n",
    "from sklearn.model_selection import train_test_split\n",
    "from sklearn.preprocessing import StandardScaler\n",
    "from sklearn.model_selection import cross_val_predict\n",
    "from sklearn.model_selection import cross_val_score\n",
    "from sklearn.pipeline import make_pipeline\n",
    "from sklearn.linear_model import LogisticRegression\n",
    "from sklearn.metrics import roc_curve\n",
    "from sklearn.metrics import cohen_kappa_score\n",
    "from sklearn.metrics import confusion_matrix\n",
    "from sklearn.metrics import classification_report\n",
    "from sklearn.metrics import recall_score\n",
    "from sklearn.linear_model import RidgeClassifier\n",
    "from sklearn.linear_model import Lasso\n",
    "from sklearn.ensemble import RandomForestClassifier\n",
    "from sklearn.tree import DecisionTreeClassifier\n",
    "from sklearn.neighbors import KNeighborsClassifier \n",
    "from sklearn import svm\n",
    "import matplotlib.pyplot as plt\n",
    "from imblearn.over_sampling import RandomOverSampler\n",
    "from sklearn import preprocessing\n",
    "from imblearn.over_sampling import SMOTE\n",
    "from imblearn.over_sampling import ADASYN\n",
    "from sklearn.decomposition import PCA\n",
    "from sklearn.manifold import Isomap"
   ]
  },
  {
   "cell_type": "code",
   "execution_count": 60,
   "metadata": {
    "collapsed": true
   },
   "outputs": [],
   "source": [
    "df_full = pd.read_csv(\"/Users/leafy/Documents/ds_final_project/kag_risk_factors_cervical_cancer.csv\")"
   ]
  },
  {
   "cell_type": "code",
   "execution_count": 61,
   "metadata": {
    "collapsed": true
   },
   "outputs": [],
   "source": [
    "df_fullna = df_full.replace('?', np.nan)"
   ]
  },
  {
   "cell_type": "code",
   "execution_count": 62,
   "metadata": {
    "collapsed": true
   },
   "outputs": [],
   "source": [
    "df = df_fullna  #making temporary save\n",
    "df = df.convert_objects(convert_numeric=True) #turn data into numeric type for computation"
   ]
  },
  {
   "cell_type": "code",
   "execution_count": 63,
   "metadata": {
    "collapsed": true
   },
   "outputs": [],
   "source": [
    "# for continuous variable\n",
    "df['Number of sexual partners'] = df['Number of sexual partners'].fillna(df['Number of sexual partners'].median())\n",
    "df['First sexual intercourse'] = df['First sexual intercourse'].fillna(df['First sexual intercourse'].median())\n",
    "df['Num of pregnancies'] = df['Num of pregnancies'].fillna(df['Num of pregnancies'].median())\n",
    "df['Smokes'] = df['Smokes'].fillna(1)\n",
    "df['Smokes (years)'] = df['Smokes (years)'].fillna(df['Smokes (years)'].median())\n",
    "df['Smokes (packs/year)'] = df['Smokes (packs/year)'].fillna(df['Smokes (packs/year)'].median())\n",
    "df['Hormonal Contraceptives'] = df['Hormonal Contraceptives'].fillna(1)\n",
    "df['Hormonal Contraceptives (years)'] = df['Hormonal Contraceptives (years)'].fillna(df['Hormonal Contraceptives (years)'].median())\n",
    "df['IUD'] = df['IUD'].fillna(0) # Under suggestion\n",
    "df['IUD (years)'] = df['IUD (years)'].fillna(0) #Under suggestion\n",
    "df['STDs'] = df['STDs'].fillna(1)\n",
    "df['STDs (number)'] = df['STDs (number)'].fillna(df['STDs (number)'].median())\n",
    "df['STDs:condylomatosis'] = df['STDs:condylomatosis'].fillna(df['STDs:condylomatosis'].median())\n",
    "df['STDs:cervical condylomatosis'] = df['STDs:cervical condylomatosis'].fillna(df['STDs:cervical condylomatosis'].median())\n",
    "df['STDs:vaginal condylomatosis'] = df['STDs:vaginal condylomatosis'].fillna(df['STDs:vaginal condylomatosis'].median())\n",
    "df['STDs:vulvo-perineal condylomatosis'] = df['STDs:vulvo-perineal condylomatosis'].fillna(df['STDs:vulvo-perineal condylomatosis'].median())\n",
    "df['STDs:syphilis'] = df['STDs:syphilis'].fillna(df['STDs:syphilis'].median())\n",
    "df['STDs:pelvic inflammatory disease'] = df['STDs:pelvic inflammatory disease'].fillna(df['STDs:pelvic inflammatory disease'].median())\n",
    "df['STDs:genital herpes'] = df['STDs:genital herpes'].fillna(df['STDs:genital herpes'].median())\n",
    "df['STDs:molluscum contagiosum'] = df['STDs:molluscum contagiosum'].fillna(df['STDs:molluscum contagiosum'].median())\n",
    "df['STDs:AIDS'] = df['STDs:AIDS'].fillna(df['STDs:AIDS'].median())\n",
    "df['STDs:HIV'] = df['STDs:HIV'].fillna(df['STDs:HIV'].median())\n",
    "df['STDs:Hepatitis B'] = df['STDs:Hepatitis B'].fillna(df['STDs:Hepatitis B'].median())\n",
    "df['STDs:HPV'] = df['STDs:HPV'].fillna(df['STDs:HPV'].median())\n",
    "df['STDs: Time since first diagnosis'] = df['STDs: Time since first diagnosis'].fillna(df['STDs: Time since first diagnosis'].median())\n",
    "df['STDs: Time since last diagnosis'] = df['STDs: Time since last diagnosis'].fillna(df['STDs: Time since last diagnosis'].median())"
   ]
  },
  {
   "cell_type": "code",
   "execution_count": 64,
   "metadata": {
    "collapsed": true
   },
   "outputs": [],
   "source": [
    "# for categorical variable\n",
    "df = pd.get_dummies(data=df, columns=['Smokes','Hormonal Contraceptives','IUD','STDs',\n",
    "                                      'Dx:Cancer','Dx:CIN','Dx:HPV','Dx'])\n",
    "data = df"
   ]
  },
  {
   "cell_type": "code",
   "execution_count": 143,
   "metadata": {},
   "outputs": [
    {
     "name": "stdout",
     "output_type": "stream",
     "text": [
      "     Age  Number of sexual partners  First sexual intercourse  \\\n",
      "0     18                        4.0                      15.0   \n",
      "1     15                        1.0                      14.0   \n",
      "2     34                        1.0                      17.0   \n",
      "3     52                        5.0                      16.0   \n",
      "4     46                        3.0                      21.0   \n",
      "5     42                        3.0                      23.0   \n",
      "6     51                        3.0                      17.0   \n",
      "7     26                        1.0                      26.0   \n",
      "8     45                        1.0                      20.0   \n",
      "9     44                        3.0                      15.0   \n",
      "10    44                        3.0                      26.0   \n",
      "11    27                        1.0                      17.0   \n",
      "12    45                        4.0                      14.0   \n",
      "13    44                        2.0                      25.0   \n",
      "14    43                        2.0                      18.0   \n",
      "15    40                        3.0                      18.0   \n",
      "16    41                        4.0                      21.0   \n",
      "17    43                        3.0                      15.0   \n",
      "18    42                        2.0                      20.0   \n",
      "19    40                        2.0                      27.0   \n",
      "20    43                        2.0                      18.0   \n",
      "21    41                        3.0                      17.0   \n",
      "22    40                        1.0                      18.0   \n",
      "23    40                        1.0                      20.0   \n",
      "24    40                        3.0                      15.0   \n",
      "25    44                        3.0                      19.0   \n",
      "26    39                        5.0                      23.0   \n",
      "27    39                        2.0                      17.0   \n",
      "28    37                        3.0                      24.0   \n",
      "29    37                        6.0                      26.0   \n",
      "..   ...                        ...                       ...   \n",
      "828   33                        2.0                      21.0   \n",
      "829   34                        3.0                      14.0   \n",
      "830   35                        4.0                      16.0   \n",
      "831   40                        3.0                      23.0   \n",
      "832   30                        2.0                      18.0   \n",
      "833   34                        1.0                      17.0   \n",
      "834   30                        3.0                      15.0   \n",
      "835   24                        1.0                      14.0   \n",
      "836   37                        3.0                      17.0   \n",
      "837   31                        9.0                      17.0   \n",
      "838   35                        3.0                      18.0   \n",
      "839   31                        3.0                      19.0   \n",
      "840   24                        2.0                      16.0   \n",
      "841   23                        2.0                      15.0   \n",
      "842   36                        3.0                      16.0   \n",
      "843   30                        3.0                      14.0   \n",
      "844   26                        8.0                      15.0   \n",
      "845   19                        2.0                      15.0   \n",
      "846   35                        2.0                      17.0   \n",
      "847   30                        3.0                      22.0   \n",
      "848   31                        3.0                      18.0   \n",
      "849   32                        3.0                      18.0   \n",
      "850   19                        1.0                      14.0   \n",
      "851   23                        2.0                      15.0   \n",
      "852   43                        3.0                      17.0   \n",
      "853   34                        3.0                      18.0   \n",
      "854   32                        2.0                      19.0   \n",
      "855   25                        2.0                      17.0   \n",
      "856   33                        2.0                      24.0   \n",
      "857   29                        2.0                      20.0   \n",
      "\n",
      "     Num of pregnancies  Smokes (years)  Smokes (packs/year)  \\\n",
      "0                   1.0        0.000000                 0.00   \n",
      "1                   1.0        0.000000                 0.00   \n",
      "2                   1.0        0.000000                 0.00   \n",
      "3                   4.0       37.000000                37.00   \n",
      "4                   4.0        0.000000                 0.00   \n",
      "5                   2.0        0.000000                 0.00   \n",
      "6                   6.0       34.000000                 3.40   \n",
      "7                   3.0        0.000000                 0.00   \n",
      "8                   5.0        0.000000                 0.00   \n",
      "9                   2.0        1.266973                 2.80   \n",
      "10                  4.0        0.000000                 0.00   \n",
      "11                  3.0        0.000000                 0.00   \n",
      "12                  6.0        0.000000                 0.00   \n",
      "13                  2.0        0.000000                 0.00   \n",
      "14                  5.0        0.000000                 0.00   \n",
      "15                  2.0        0.000000                 0.00   \n",
      "16                  3.0        0.000000                 0.00   \n",
      "17                  8.0        0.000000                 0.00   \n",
      "18                  2.0        0.000000                 0.00   \n",
      "19                  2.0        0.000000                 0.00   \n",
      "20                  4.0        0.000000                 0.00   \n",
      "21                  4.0        0.000000                 0.00   \n",
      "22                  1.0        0.000000                 0.00   \n",
      "23                  2.0        0.000000                 0.00   \n",
      "24                  3.0        0.000000                 0.00   \n",
      "25                  1.0        0.000000                 0.00   \n",
      "26                  2.0        0.000000                 0.00   \n",
      "27                  4.0        0.000000                 0.00   \n",
      "28                  1.0        3.000000                 0.04   \n",
      "29                  1.0        0.000000                 0.00   \n",
      "..                  ...             ...                  ...   \n",
      "828                 0.0        0.000000                 0.00   \n",
      "829                 4.0        0.000000                 0.00   \n",
      "830                 4.0        0.000000                 0.00   \n",
      "831                 2.0        0.000000                 0.00   \n",
      "832                 0.0        0.000000                 0.00   \n",
      "833                 0.0        0.000000                 0.00   \n",
      "834                 0.0       16.000000                 8.00   \n",
      "835                 0.0        0.000000                 0.00   \n",
      "836                 0.0        0.000000                 0.00   \n",
      "837                 1.0       11.000000                 5.50   \n",
      "838                 3.0        0.000000                 0.00   \n",
      "839                 1.0        0.000000                 0.00   \n",
      "840                 3.0        0.000000                 0.00   \n",
      "841                 0.0        0.000000                 0.00   \n",
      "842                 3.0        6.000000                 0.30   \n",
      "843                 3.0        0.000000                 0.00   \n",
      "844                 1.0        9.000000                 1.35   \n",
      "845                 2.0        0.000000                 0.00   \n",
      "846                 1.0        0.000000                 0.00   \n",
      "847                 1.0        0.000000                 0.00   \n",
      "848                 1.0        0.000000                 0.00   \n",
      "849                 1.0       11.000000                 0.16   \n",
      "850                 0.0        0.000000                 0.00   \n",
      "851                 2.0        0.000000                 0.00   \n",
      "852                 3.0        0.000000                 0.00   \n",
      "853                 0.0        0.000000                 0.00   \n",
      "854                 1.0        0.000000                 0.00   \n",
      "855                 0.0        0.000000                 0.00   \n",
      "856                 2.0        0.000000                 0.00   \n",
      "857                 1.0        0.000000                 0.00   \n",
      "\n",
      "     Hormonal Contraceptives (years)  IUD (years)  STDs (number)  \\\n",
      "0                               0.00         0.00            0.0   \n",
      "1                               0.00         0.00            0.0   \n",
      "2                               0.00         0.00            0.0   \n",
      "3                               3.00         0.00            0.0   \n",
      "4                              15.00         0.00            0.0   \n",
      "5                               0.00         0.00            0.0   \n",
      "6                               0.00         7.00            0.0   \n",
      "7                               2.00         7.00            0.0   \n",
      "8                               0.00         0.00            0.0   \n",
      "9                               0.00         0.00            0.0   \n",
      "10                              2.00         0.00            0.0   \n",
      "11                              8.00         0.00            0.0   \n",
      "12                             10.00         5.00            0.0   \n",
      "13                              5.00         0.00            0.0   \n",
      "14                              0.00         8.00            0.0   \n",
      "15                             15.00         0.00            0.0   \n",
      "16                              0.25         0.00            0.0   \n",
      "17                              3.00         0.00            0.0   \n",
      "18                              7.00         6.00            2.0   \n",
      "19                              0.00         1.00            0.0   \n",
      "20                             15.00         0.00            0.0   \n",
      "21                             10.00         0.00            1.0   \n",
      "22                              0.25         0.00            2.0   \n",
      "23                             15.00         0.00            0.0   \n",
      "24                              3.00         0.00            0.0   \n",
      "25                              0.00         0.00            0.0   \n",
      "26                              0.00         1.00            0.0   \n",
      "27                              0.00         0.00            0.0   \n",
      "28                              0.00         0.00            0.0   \n",
      "29                              0.25         0.00            0.0   \n",
      "..                               ...          ...            ...   \n",
      "828                             0.00         0.00            0.0   \n",
      "829                             0.00         0.00            0.0   \n",
      "830                             0.00         0.00            0.0   \n",
      "831                             0.00         0.00            1.0   \n",
      "832                             1.00         0.00            0.0   \n",
      "833                             0.00         0.00            0.0   \n",
      "834                             0.00         0.00            0.0   \n",
      "835                             0.00         0.00            0.0   \n",
      "836                             0.25         0.00            0.0   \n",
      "837                             0.25         0.00            0.0   \n",
      "838                             5.00         0.00            0.0   \n",
      "839                             0.08         8.00            0.0   \n",
      "840                             5.00         0.00            0.0   \n",
      "841                             0.00         0.00            0.0   \n",
      "842                             2.00         0.00            0.0   \n",
      "843                             2.00         0.00            0.0   \n",
      "844                             5.00         0.17            0.0   \n",
      "845                             0.75         0.00            0.0   \n",
      "846                             0.00         0.00            0.0   \n",
      "847                             0.00         0.00            0.0   \n",
      "848                             0.50         0.00            0.0   \n",
      "849                             6.00         0.00            1.0   \n",
      "850                             0.00         0.00            0.0   \n",
      "851                             0.00         0.00            0.0   \n",
      "852                             5.00         0.00            0.0   \n",
      "853                             0.00         0.00            0.0   \n",
      "854                             8.00         0.00            0.0   \n",
      "855                             0.08         0.00            0.0   \n",
      "856                             0.08         0.00            0.0   \n",
      "857                             0.50         0.00            0.0   \n",
      "\n",
      "     STDs:condylomatosis  ...   STDs_0.0  STDs_1.0  Dx:Cancer_0  Dx:Cancer_1  \\\n",
      "0                    0.0  ...          1         0            1            0   \n",
      "1                    0.0  ...          1         0            1            0   \n",
      "2                    0.0  ...          1         0            1            0   \n",
      "3                    0.0  ...          1         0            0            1   \n",
      "4                    0.0  ...          1         0            1            0   \n",
      "5                    0.0  ...          1         0            1            0   \n",
      "6                    0.0  ...          1         0            1            0   \n",
      "7                    0.0  ...          1         0            1            0   \n",
      "8                    0.0  ...          1         0            0            1   \n",
      "9                    0.0  ...          1         0            1            0   \n",
      "10                   0.0  ...          1         0            1            0   \n",
      "11                   0.0  ...          1         0            1            0   \n",
      "12                   0.0  ...          1         0            1            0   \n",
      "13                   0.0  ...          1         0            1            0   \n",
      "14                   0.0  ...          1         0            1            0   \n",
      "15                   0.0  ...          1         0            1            0   \n",
      "16                   0.0  ...          1         0            1            0   \n",
      "17                   0.0  ...          1         0            1            0   \n",
      "18                   1.0  ...          0         1            1            0   \n",
      "19                   0.0  ...          1         0            1            0   \n",
      "20                   0.0  ...          1         0            1            0   \n",
      "21                   0.0  ...          0         1            1            0   \n",
      "22                   1.0  ...          0         1            1            0   \n",
      "23                   0.0  ...          1         0            0            1   \n",
      "24                   0.0  ...          1         0            1            0   \n",
      "25                   0.0  ...          1         0            1            0   \n",
      "26                   0.0  ...          1         0            1            0   \n",
      "27                   0.0  ...          1         0            1            0   \n",
      "28                   0.0  ...          1         0            1            0   \n",
      "29                   0.0  ...          1         0            1            0   \n",
      "..                   ...  ...        ...       ...          ...          ...   \n",
      "828                  0.0  ...          1         0            1            0   \n",
      "829                  0.0  ...          1         0            1            0   \n",
      "830                  0.0  ...          1         0            1            0   \n",
      "831                  0.0  ...          0         1            1            0   \n",
      "832                  0.0  ...          1         0            1            0   \n",
      "833                  0.0  ...          1         0            1            0   \n",
      "834                  0.0  ...          1         0            1            0   \n",
      "835                  0.0  ...          1         0            1            0   \n",
      "836                  0.0  ...          1         0            1            0   \n",
      "837                  0.0  ...          1         0            1            0   \n",
      "838                  0.0  ...          1         0            1            0   \n",
      "839                  0.0  ...          1         0            0            1   \n",
      "840                  0.0  ...          1         0            1            0   \n",
      "841                  0.0  ...          1         0            1            0   \n",
      "842                  0.0  ...          1         0            1            0   \n",
      "843                  0.0  ...          1         0            1            0   \n",
      "844                  0.0  ...          1         0            1            0   \n",
      "845                  0.0  ...          1         0            1            0   \n",
      "846                  0.0  ...          1         0            1            0   \n",
      "847                  0.0  ...          1         0            1            0   \n",
      "848                  0.0  ...          1         0            1            0   \n",
      "849                  0.0  ...          0         1            0            1   \n",
      "850                  0.0  ...          1         0            1            0   \n",
      "851                  0.0  ...          1         0            1            0   \n",
      "852                  0.0  ...          1         0            1            0   \n",
      "853                  0.0  ...          1         0            1            0   \n",
      "854                  0.0  ...          1         0            1            0   \n",
      "855                  0.0  ...          1         0            1            0   \n",
      "856                  0.0  ...          1         0            1            0   \n",
      "857                  0.0  ...          1         0            1            0   \n",
      "\n",
      "     Dx:CIN_0  Dx:CIN_1  Dx:HPV_0  Dx:HPV_1  Dx_0  Dx_1  \n",
      "0           1         0         1         0     1     0  \n",
      "1           1         0         1         0     1     0  \n",
      "2           1         0         1         0     1     0  \n",
      "3           1         0         0         1     1     0  \n",
      "4           1         0         1         0     1     0  \n",
      "5           1         0         1         0     1     0  \n",
      "6           1         0         1         0     1     0  \n",
      "7           1         0         1         0     1     0  \n",
      "8           1         0         0         1     0     1  \n",
      "9           1         0         1         0     1     0  \n",
      "10          1         0         1         0     1     0  \n",
      "11          1         0         1         0     1     0  \n",
      "12          1         0         1         0     1     0  \n",
      "13          1         0         1         0     1     0  \n",
      "14          1         0         1         0     1     0  \n",
      "15          1         0         1         0     1     0  \n",
      "16          1         0         1         0     1     0  \n",
      "17          1         0         1         0     1     0  \n",
      "18          1         0         1         0     1     0  \n",
      "19          1         0         1         0     1     0  \n",
      "20          1         0         1         0     1     0  \n",
      "21          1         0         1         0     1     0  \n",
      "22          1         0         1         0     1     0  \n",
      "23          1         0         0         1     1     0  \n",
      "24          1         0         1         0     1     0  \n",
      "25          1         0         1         0     1     0  \n",
      "26          1         0         1         0     1     0  \n",
      "27          1         0         1         0     1     0  \n",
      "28          1         0         1         0     1     0  \n",
      "29          1         0         1         0     1     0  \n",
      "..        ...       ...       ...       ...   ...   ...  \n",
      "828         1         0         1         0     1     0  \n",
      "829         1         0         1         0     1     0  \n",
      "830         1         0         1         0     1     0  \n",
      "831         1         0         1         0     1     0  \n",
      "832         1         0         1         0     1     0  \n",
      "833         1         0         1         0     1     0  \n",
      "834         1         0         1         0     1     0  \n",
      "835         1         0         1         0     1     0  \n",
      "836         1         0         1         0     1     0  \n",
      "837         1         0         1         0     1     0  \n",
      "838         1         0         1         0     1     0  \n",
      "839         1         0         1         0     0     1  \n",
      "840         1         0         1         0     1     0  \n",
      "841         1         0         1         0     1     0  \n",
      "842         1         0         1         0     1     0  \n",
      "843         1         0         1         0     1     0  \n",
      "844         1         0         1         0     1     0  \n",
      "845         1         0         1         0     1     0  \n",
      "846         1         0         1         0     1     0  \n",
      "847         1         0         1         0     1     0  \n",
      "848         1         0         1         0     1     0  \n",
      "849         1         0         0         1     1     0  \n",
      "850         1         0         1         0     1     0  \n",
      "851         1         0         1         0     1     0  \n",
      "852         1         0         1         0     1     0  \n",
      "853         1         0         1         0     1     0  \n",
      "854         1         0         1         0     1     0  \n",
      "855         1         0         1         0     1     0  \n",
      "856         1         0         1         0     1     0  \n",
      "857         1         0         1         0     1     0  \n",
      "\n",
      "[858 rows x 44 columns]\n"
     ]
    }
   ],
   "source": [
    "print(data)"
   ]
  },
  {
   "cell_type": "code",
   "execution_count": 55,
   "metadata": {
    "collapsed": true
   },
   "outputs": [],
   "source": [
    "# drop_cols = [\"Hinselmann\", \"Schiller\", \"Citology\", \"Biopsy\"]\n",
    "drop_cols = [\"Biopsy\"]\n",
    "X = data.drop(drop_cols,axis=1) \n",
    "y = data['Biopsy']\n",
    "X_train, X_test, y_train, y_test = train_test_split(X, y, test_size=0.2, random_state=42, stratify=y)\n",
    "ros = RandomOverSampler(random_state=0)\n",
    "# ros = SMOTE(random_state=0)\n",
    "X_resampled, y_resampled = ros.fit_sample(X_train, y_train)\n",
    "\n",
    "minmax_scale = preprocessing.MinMaxScaler(feature_range=(0, 1))\n",
    "X_resampled_scaled = minmax_scale.fit_transform(X_resampled)\n",
    "X_test_scaled = minmax_scale.fit_transform(X_test)\n",
    "\n",
    "# scaler = StandardScaler()\n",
    "# scaler.fit(X_resampled)\n",
    "# X_resampled_scaled = scaler.transform(X_resampled)\n",
    "# X_test_scaled = scaler.transform(X_test)"
   ]
  },
  {
   "cell_type": "code",
   "execution_count": null,
   "metadata": {
    "collapsed": true
   },
   "outputs": [],
   "source": [
    "from sklearn.linear_model import RidgeClassifier\n",
    "rid = RidgeClassifier()\n",
    "rid.fit(X_resampled_scaled, y_resampled)\n",
    "predicted = np.round(rid.predict(X_test_scaled))\n",
    "print(cohen_kappa_score(y_test, predicted))\n",
    "conf = confusion_matrix(y_test, predicted)\n",
    "label = [\"0\",\"1\"]\n",
    "sns.heatmap(conf, annot=True, xticklabels=label, yticklabels=label, cmap=\"YlGnBu\")\n",
    "plt.show()"
   ]
  },
  {
   "cell_type": "code",
   "execution_count": null,
   "metadata": {
    "collapsed": true
   },
   "outputs": [],
   "source": [
    "from sklearn.linear_model import LassoCV\n",
    "lascv = LassoCV()\n",
    "lascv.fit(X_resampled_scaled, y_resampled)\n",
    "predicted = np.round(lascv.predict(X_test_scaled))\n",
    "\n",
    "print(cohen_kappa_score(y_test, predicted))\n",
    "conf = confusion_matrix(y_test, predicted)\n",
    "label = [\"0\",\"1\"]\n",
    "sns.heatmap(conf, annot=True, xticklabels=label, yticklabels=label, cmap=\"YlGnBu\")\n",
    "plt.show()"
   ]
  },
  {
   "cell_type": "code",
   "execution_count": null,
   "metadata": {
    "collapsed": true
   },
   "outputs": [],
   "source": [
    "from sklearn import svm\n",
    "svc = svm.SVC(kernel = \"rbf\")\n",
    "svc.fit(X_resampled_scaled, y_resampled)\n",
    "predicted = svc.predict(X_test_scaled)\n",
    "print(cohen_kappa_score(y_test, predicted))\n",
    "conf = confusion_matrix(y_test, predicted)\n",
    "label = [\"0\",\"1\"]\n",
    "sns.heatmap(conf, annot=True, xticklabels=label, yticklabels=label, cmap=\"YlGnBu\")\n",
    "plt.show()"
   ]
  },
  {
   "cell_type": "code",
   "execution_count": null,
   "metadata": {
    "collapsed": true
   },
   "outputs": [],
   "source": [
    "rf = RandomForestClassifier(n_estimators = 2000, class_weight=\"balanced\", random_state=None)\n",
    "rf.fit(X_resampled, y_resampled)\n",
    "predicted = rf.predict(X_test)\n",
    "print(cohen_kappa_score(y_test, predicted))\n",
    "conf = confusion_matrix(y_test, predicted)\n",
    "label = [\"0\",\"1\"]\n",
    "sns.heatmap(conf, annot=True, xticklabels=label, yticklabels=label, cmap=\"YlGnBu\")\n",
    "plt.show()"
   ]
  },
  {
   "cell_type": "code",
   "execution_count": null,
   "metadata": {
    "collapsed": true
   },
   "outputs": [],
   "source": [
    "from imblearn import metrics\n",
    "print(metrics.sensitivity_score(y_test, predicted))"
   ]
  },
  {
   "cell_type": "code",
   "execution_count": 69,
   "metadata": {
    "collapsed": true
   },
   "outputs": [],
   "source": [
    "# ros = RandomOverSampler(random_state=0)\n",
    "# ros = SMOTE(random_state=0)\n",
    "ros = ADASYN(random_state=0)"
   ]
  },
  {
   "cell_type": "markdown",
   "metadata": {},
   "source": [
    "# Models using Cross-Validation"
   ]
  },
  {
   "cell_type": "markdown",
   "metadata": {},
   "source": [
    "## RidgeClassifier"
   ]
  },
  {
   "cell_type": "code",
   "execution_count": 108,
   "metadata": {},
   "outputs": [
    {
     "name": "stdout",
     "output_type": "stream",
     "text": [
      "FOLD 0\n",
      "-0.023023791250959214\n"
     ]
    },
    {
     "data": {
      "image/png": "[encoded data removed]",
      "text/plain": [
       "<matplotlib.figure.Figure at 0x10a0ef860>"
      ]
     },
     "metadata": {},
     "output_type": "display_data"
    },
    {
     "name": "stdout",
     "output_type": "stream",
     "text": [
      "FOLD 1\n",
      "-0.006408470325995896\n"
     ]
    },
    {
     "data": {
      "image/png": "[encoded data removed]",
      "text/plain": [
       "<matplotlib.figure.Figure at 0x10aee50b8>"
      ]
     },
     "metadata": {},
     "output_type": "display_data"
    },
    {
     "name": "stdout",
     "output_type": "stream",
     "text": [
      "FOLD 2\n",
      "0.01285583103764909\n"
     ]
    },
    {
     "data": {
      "image/png": "[encoded data removed]",
      "text/plain": [
       "<matplotlib.figure.Figure at 0x10a70bda0>"
      ]
     },
     "metadata": {},
     "output_type": "display_data"
    },
    {
     "name": "stdout",
     "output_type": "stream",
     "text": [
      "FOLD 3\n",
      "-0.036363636363636376\n"
     ]
    },
    {
     "data": {
      "image/png": "[encoded data removed]",
      "text/plain": [
       "<matplotlib.figure.Figure at 0x10a23de48>"
      ]
     },
     "metadata": {},
     "output_type": "display_data"
    },
    {
     "name": "stdout",
     "output_type": "stream",
     "text": [
      "FOLD 4\n",
      "0.004751158094785768\n"
     ]
    },
    {
     "data": {
      "image/png": "[encoded data removed]",
      "text/plain": [
       "<matplotlib.figure.Figure at 0x10acaa2b0>"
      ]
     },
     "metadata": {},
     "output_type": "display_data"
    },
    {
     "name": "stdout",
     "output_type": "stream",
     "text": [
      "average cohen_kappa_score is -0.009637781761631325\n",
      "average accuracy is 0.7180062559499524\n",
      "average recall is 0.23603174603174598\n"
     ]
    },
    {
     "data": {
      "image/png": "[encoded data removed]",
      "text/plain": [
       "<matplotlib.figure.Figure at 0x111623470>"
      ]
     },
     "metadata": {},
     "output_type": "display_data"
    }
   ],
   "source": [
    "k_folds = 5\n",
    "cohen_kappa = np.zeros(k_folds)\n",
    "acc = np.zeros(k_folds)\n",
    "recall = np.zeros(k_folds)\n",
    "kf = KFold(n_splits=k_folds, shuffle=True, random_state=42)\n",
    "fold_index = 0\n",
    "rid = RidgeClassifier()\n",
    "drop_cols = [\"Hinselmann\", \"Schiller\", \"Citology\", \"Biopsy\"]\n",
    "#drop_cols = [\"Biopsy\"]\n",
    "dat = np.array(data.drop(drop_cols,axis=1))\n",
    "label = np.array(data['Hinselmann'])\n",
    "# for i,j in enumerate(label):\n",
    "#     if j == 0:\n",
    "#         label[i] = -1\n",
    "test_label_all = []\n",
    "predicted_all = []\n",
    "\n",
    "for train_indices, test_indices in kf.split(dat):\n",
    "    print (\"FOLD {}\".format(fold_index))\n",
    "    \n",
    "    train_data, test_data = dat[train_indices], dat[test_indices]\n",
    "    train_label, test_label = label[train_indices], label[test_indices]\n",
    "    train_data_resampled, train_label_resampled = ros.fit_sample(train_data, train_label)\n",
    "    \n",
    "    minmax_scale = preprocessing.MinMaxScaler(feature_range=(0, 1))\n",
    "    train_data_scaled = minmax_scale.fit_transform(train_data_resampled)\n",
    "    test_data_scaled = minmax_scale.transform(test_data)\n",
    "    \n",
    "    rid.fit(train_data_scaled, train_label_resampled)\n",
    "    predicted = rid.predict(test_data_scaled)\n",
    "    print(cohen_kappa_score(test_label, predicted))\n",
    "    cohen_kappa[fold_index] = cohen_kappa_score(test_label, predicted)\n",
    "    \n",
    "    recall[fold_index] = recall_score(test_label, predicted)\n",
    "    acc[fold_index] = rid.score(test_data_scaled, test_label)\n",
    "    test_label_all.append(test_label)\n",
    "    predicted_all.append(predicted)\n",
    "    conf = confusion_matrix(test_label, predicted)\n",
    "    tag = [\"0\",\"1\"]\n",
    "    sns.heatmap(conf, annot=True, xticklabels=tag, yticklabels=tag, cmap=\"YlGnBu\")\n",
    "    plt.show()\n",
    "    fold_index += 1\n",
    "print (\"average cohen_kappa_score is {}\".format(np.mean(cohen_kappa)))\n",
    "print (\"average accuracy is {}\".format(np.mean(acc)))\n",
    "print (\"average recall is {}\".format(np.mean(recall)))\n",
    "conf = confusion_matrix(np.hstack(test_label_all).tolist(), np.hstack(predicted_all).tolist())\n",
    "tag = [\"0\",\"1\"]\n",
    "sns.heatmap(conf, annot=True, xticklabels=tag, yticklabels=tag, cmap=\"YlGnBu\")\n",
    "plt.title(\"Confusion Matrix (oversampled)\", fontsize=16)\n",
    "plt.show()"
   ]
  },
  {
   "cell_type": "code",
   "execution_count": 96,
   "metadata": {},
   "outputs": [
    {
     "name": "stdout",
     "output_type": "stream",
     "text": [
      "FOLD 0\n",
      "0.0\n"
     ]
    },
    {
     "data": {
      "image/png": "[encoded data removed]",
      "text/plain": [
       "<matplotlib.figure.Figure at 0x10ae8c358>"
      ]
     },
     "metadata": {},
     "output_type": "display_data"
    },
    {
     "name": "stdout",
     "output_type": "stream",
     "text": [
      "FOLD 1\n",
      "0.0\n"
     ]
    },
    {
     "data": {
      "image/png": "[encoded data removed]",
      "text/plain": [
       "<matplotlib.figure.Figure at 0x10a0218d0>"
      ]
     },
     "metadata": {},
     "output_type": "display_data"
    },
    {
     "name": "stdout",
     "output_type": "stream",
     "text": [
      "FOLD 2\n",
      "-0.02033898305084758\n"
     ]
    },
    {
     "data": {
      "image/png": "[encoded data removed]",
      "text/plain": [
       "<matplotlib.figure.Figure at 0x10a5bb978>"
      ]
     },
     "metadata": {},
     "output_type": "display_data"
    },
    {
     "name": "stdout",
     "output_type": "stream",
     "text": [
      "FOLD 3\n",
      "0.0\n"
     ]
    },
    {
     "data": {
      "image/png": "[encoded data removed]",
      "text/plain": [
       "<matplotlib.figure.Figure at 0x10a021dd8>"
      ]
     },
     "metadata": {},
     "output_type": "display_data"
    },
    {
     "name": "stdout",
     "output_type": "stream",
     "text": [
      "FOLD 4\n",
      "0.0\n"
     ]
    },
    {
     "data": {
      "image/png": "[encoded data removed]",
      "text/plain": [
       "<matplotlib.figure.Figure at 0x10a0fff60>"
      ]
     },
     "metadata": {},
     "output_type": "display_data"
    },
    {
     "name": "stdout",
     "output_type": "stream",
     "text": [
      "average cohen_kappa_score is -0.004067796610169516\n",
      "average accuracy is 0.9335781313749489\n",
      "average cohen_kappa_score is -0.004067796610169516\n",
      "average accuracy is 0.9335781313749489\n"
     ]
    },
    {
     "data": {
      "image/png": "[encoded data removed]",
      "text/plain": [
       "<matplotlib.figure.Figure at 0x10a588f98>"
      ]
     },
     "metadata": {},
     "output_type": "display_data"
    }
   ],
   "source": [
    "k_folds = 5\n",
    "cohen_kappa = np.zeros(k_folds)\n",
    "acc = np.zeros(k_folds)\n",
    "kf = KFold(n_splits=k_folds, shuffle=True, random_state=42)\n",
    "fold_index = 0\n",
    "rid = RidgeClassifier()\n",
    "drop_cols = [\"Hinselmann\", \"Schiller\", \"Citology\", \"Biopsy\"]\n",
    "#drop_cols = [\"Biopsy\"]\n",
    "dat = np.array(data.drop(drop_cols,axis=1))\n",
    "label = np.array(data['Biopsy'])\n",
    "\n",
    "test_label_all = []\n",
    "predicted_all = []\n",
    "\n",
    "for train_indices, test_indices in kf.split(dat):\n",
    "    print (\"FOLD {}\".format(fold_index))\n",
    "    \n",
    "    train_data, test_data = dat[train_indices], dat[test_indices]\n",
    "    train_label, test_label = label[train_indices], label[test_indices]\n",
    "#     train_data_resampled, train_label_resampled = ros.fit_sample(train_data, train_label)\n",
    "    \n",
    "    minmax_scale = preprocessing.MinMaxScaler(feature_range=(0, 1))\n",
    "    train_data_scaled = minmax_scale.fit_transform(train_data)\n",
    "    test_data_scaled = minmax_scale.transform(test_data)\n",
    "    \n",
    "    rid.fit(train_data_scaled, train_label)\n",
    "    predicted = rid.predict(test_data_scaled)\n",
    "    print(cohen_kappa_score(test_label, predicted))\n",
    "    cohen_kappa[fold_index] = cohen_kappa_score(test_label, predicted)\n",
    "    \n",
    "    acc[fold_index] = rid.score(test_data_scaled, test_label)\n",
    "    \n",
    "    test_label_all.append(test_label)\n",
    "    predicted_all.append(predicted)\n",
    "    \n",
    "    conf = confusion_matrix(test_label, predicted)\n",
    "    tag = [\"0\",\"1\"]\n",
    "    sns.heatmap(conf, annot=True, xticklabels=tag, yticklabels=tag, cmap=\"YlGnBu\")\n",
    "    plt.show()\n",
    "    fold_index += 1\n",
    "print (\"average cohen_kappa_score is {}\".format(np.mean(cohen_kappa)))\n",
    "print (\"average accuracy is {}\".format(np.mean(acc)))\n",
    "print (\"average cohen_kappa_score is {}\".format(np.mean(cohen_kappa)))\n",
    "print (\"average accuracy is {}\".format(np.mean(acc)))\n",
    "conf = confusion_matrix(np.hstack(test_label_all).tolist(), np.hstack(predicted_all).tolist())\n",
    "tag = [\"0\",\"1\"]\n",
    "sns.heatmap(conf, annot=True, xticklabels=tag, yticklabels=tag, cmap=\"YlGnBu\")\n",
    "plt.title(\"Confusion Matrix (not oversampled)\", fontsize=16)\n",
    "plt.show()"
   ]
  },
  {
   "cell_type": "markdown",
   "metadata": {},
   "source": [
    "## svm_linear"
   ]
  },
  {
   "cell_type": "code",
   "execution_count": 112,
   "metadata": {},
   "outputs": [
    {
     "name": "stdout",
     "output_type": "stream",
     "text": [
      "FOLD 0\n",
      "0.06521739130434767\n"
     ]
    },
    {
     "data": {
      "image/png": "[encoded data removed]",
      "text/plain": [
       "<matplotlib.figure.Figure at 0x10acae748>"
      ]
     },
     "metadata": {},
     "output_type": "display_data"
    },
    {
     "name": "stdout",
     "output_type": "stream",
     "text": [
      "FOLD 1\n",
      "0.20292682926829275\n"
     ]
    },
    {
     "data": {
      "image/png": "[encoded data removed]",
      "text/plain": [
       "<matplotlib.figure.Figure at 0x10a1c3ac8>"
      ]
     },
     "metadata": {},
     "output_type": "display_data"
    },
    {
     "name": "stdout",
     "output_type": "stream",
     "text": [
      "FOLD 2\n",
      "0.020947176684881552\n"
     ]
    },
    {
     "data": {
      "image/png": "[encoded data removed]",
      "text/plain": [
       "<matplotlib.figure.Figure at 0x10a2257b8>"
      ]
     },
     "metadata": {},
     "output_type": "display_data"
    },
    {
     "name": "stdout",
     "output_type": "stream",
     "text": [
      "FOLD 3\n",
      "-0.030120481927710996\n"
     ]
    },
    {
     "data": {
      "image/png": "[encoded data removed]",
      "text/plain": [
       "<matplotlib.figure.Figure at 0x10a6f2198>"
      ]
     },
     "metadata": {},
     "output_type": "display_data"
    },
    {
     "name": "stdout",
     "output_type": "stream",
     "text": [
      "FOLD 4\n",
      "-0.0066225165562914245\n"
     ]
    },
    {
     "data": {
      "image/png": "[encoded data removed]",
      "text/plain": [
       "<matplotlib.figure.Figure at 0x10a1b5668>"
      ]
     },
     "metadata": {},
     "output_type": "display_data"
    },
    {
     "name": "stdout",
     "output_type": "stream",
     "text": [
      "average cohen_kappa_score is 0.050469679754703914\n",
      "average accuracy is 0.8251189990480077\n",
      "average cohen_kappa_score is 0.050469679754703914\n",
      "average accuracy is 0.8251189990480077\n",
      "average recall is 0.2791269841269841\n"
     ]
    },
    {
     "data": {
      "image/png": "[encoded data removed]",
      "text/plain": [
       "<matplotlib.figure.Figure at 0x112515128>"
      ]
     },
     "metadata": {},
     "output_type": "display_data"
    }
   ],
   "source": [
    "clf = svm.SVC(kernel=\"linear\", C=0.025)\n",
    "k_folds = 5\n",
    "cohen_kappa = np.zeros(k_folds)\n",
    "acc = np.zeros(k_folds)\n",
    "recall = np.zeros(k_folds)\n",
    "kf = KFold(n_splits=k_folds, shuffle=True, random_state=42)\n",
    "fold_index = 0\n",
    "drop_cols = [\"Hinselmann\", \"Schiller\", \"Citology\", \"Biopsy\"]\n",
    "#drop_cols = [\"Biopsy\"]\n",
    "dat = np.array(data.drop(drop_cols,axis=1))\n",
    "label = np.array(data['Hinselmann'])\n",
    "test_label_all = []\n",
    "predicted_all = []\n",
    "for train_indices, test_indices in kf.split(dat):\n",
    "    print (\"FOLD {}\".format(fold_index))\n",
    "    \n",
    "    train_data, test_data = dat[train_indices], dat[test_indices]\n",
    "    train_label, test_label = label[train_indices], label[test_indices]\n",
    "    train_data_resampled, train_label_resampled = ros.fit_sample(train_data, train_label)\n",
    "    \n",
    "    minmax_scale = preprocessing.MinMaxScaler(feature_range=(0, 1))\n",
    "    train_data_scaled = minmax_scale.fit_transform(train_data_resampled)\n",
    "    test_data_scaled = minmax_scale.transform(test_data)\n",
    "    \n",
    "    clf.fit(train_data_scaled, train_label_resampled)\n",
    "    predicted = clf.predict(test_data_scaled)\n",
    "    print(cohen_kappa_score(test_label, predicted))\n",
    "    cohen_kappa[fold_index] = cohen_kappa_score(test_label, predicted)\n",
    "    \n",
    "    recall[fold_index] = recall_score(test_label, predicted)\n",
    "    acc[fold_index] = clf.score(test_data_scaled, test_label)\n",
    "    recall[fold_index] = recall_score(test_label, predicted)\n",
    "    \n",
    "    test_label_all.append(test_label)\n",
    "    predicted_all.append(predicted)\n",
    "    conf = confusion_matrix(test_label, predicted)\n",
    "    tag = [\"0\",\"1\"]\n",
    "    sns.heatmap(conf, annot=True, xticklabels=tag, yticklabels=tag, cmap=\"YlGnBu\")\n",
    "    plt.show()\n",
    "    fold_index += 1\n",
    "print (\"average cohen_kappa_score is {}\".format(np.mean(cohen_kappa)))\n",
    "print (\"average accuracy is {}\".format(np.mean(acc)))\n",
    "print (\"average cohen_kappa_score is {}\".format(np.mean(cohen_kappa)))\n",
    "print (\"average accuracy is {}\".format(np.mean(acc)))\n",
    "print (\"average recall is {}\".format(np.mean(recall)))\n",
    "conf = confusion_matrix(np.hstack(test_label_all).tolist(), np.hstack(predicted_all).tolist())\n",
    "tag = [\"0\",\"1\"]\n",
    "sns.heatmap(conf, annot=True, xticklabels=tag, yticklabels=tag, cmap=\"YlGnBu\")\n",
    "plt.title(\"Confusion Matrix (oversampled)\", fontsize=16)\n",
    "plt.show()"
   ]
  },
  {
   "cell_type": "code",
   "execution_count": 94,
   "metadata": {},
   "outputs": [
    {
     "name": "stdout",
     "output_type": "stream",
     "text": [
      "FOLD 0\n",
      "0.0\n"
     ]
    },
    {
     "data": {
      "image/png": "[encoded data removed]",
      "text/plain": [
       "<matplotlib.figure.Figure at 0x102d76c18>"
      ]
     },
     "metadata": {},
     "output_type": "display_data"
    },
    {
     "name": "stdout",
     "output_type": "stream",
     "text": [
      "FOLD 1\n",
      "0.0\n"
     ]
    },
    {
     "data": {
      "image/png": "[encoded data removed]",
      "text/plain": [
       "<matplotlib.figure.Figure at 0x10a16eda0>"
      ]
     },
     "metadata": {},
     "output_type": "display_data"
    },
    {
     "name": "stdout",
     "output_type": "stream",
     "text": [
      "FOLD 2\n",
      "0.0\n"
     ]
    },
    {
     "data": {
      "image/png": "[encoded data removed]",
      "text/plain": [
       "<matplotlib.figure.Figure at 0x10a702ac8>"
      ]
     },
     "metadata": {},
     "output_type": "display_data"
    },
    {
     "name": "stdout",
     "output_type": "stream",
     "text": [
      "FOLD 3\n",
      "0.0\n"
     ]
    },
    {
     "data": {
      "image/png": "[encoded data removed]",
      "text/plain": [
       "<matplotlib.figure.Figure at 0x10a0b9550>"
      ]
     },
     "metadata": {},
     "output_type": "display_data"
    },
    {
     "name": "stdout",
     "output_type": "stream",
     "text": [
      "FOLD 4\n",
      "0.0\n"
     ]
    },
    {
     "data": {
      "image/png": "[encoded data removed]",
      "text/plain": [
       "<matplotlib.figure.Figure at 0x10a6ec630>"
      ]
     },
     "metadata": {},
     "output_type": "display_data"
    },
    {
     "name": "stdout",
     "output_type": "stream",
     "text": [
      "average cohen_kappa_score is 0.0\n",
      "average accuracy is 0.9487284101727186\n",
      "average cohen_kappa_score is 0.0\n",
      "average accuracy is 0.9487284101727186\n"
     ]
    },
    {
     "data": {
      "image/png": "[encoded data removed]",
      "text/plain": [
       "<matplotlib.figure.Figure at 0x10acbcb70>"
      ]
     },
     "metadata": {},
     "output_type": "display_data"
    }
   ],
   "source": [
    "clf = svm.SVC(kernel=\"linear\", C=0.025)\n",
    "k_folds = 5\n",
    "cohen_kappa = np.zeros(k_folds)\n",
    "acc = np.zeros(k_folds)\n",
    "\n",
    "kf = KFold(n_splits=k_folds, shuffle=True, random_state=42)\n",
    "fold_index = 0\n",
    "drop_cols = [\"Hinselmann\", \"Schiller\", \"Citology\", \"Biopsy\"]\n",
    "#drop_cols = [\"Biopsy\"]\n",
    "dat = np.array(data.drop(drop_cols,axis=1))\n",
    "label = np.array(data['Citology'])\n",
    "test_label_all = []\n",
    "predicted_all = []\n",
    "for train_indices, test_indices in kf.split(dat):\n",
    "    print (\"FOLD {}\".format(fold_index))\n",
    "    \n",
    "    train_data, test_data = dat[train_indices], dat[test_indices]\n",
    "    train_label, test_label = label[train_indices], label[test_indices]\n",
    "    \n",
    "    minmax_scale = preprocessing.MinMaxScaler(feature_range=(0, 1))\n",
    "    train_data_scaled = minmax_scale.fit_transform(train_data)\n",
    "    test_data_scaled = minmax_scale.transform(test_data)\n",
    "    \n",
    "    clf.fit(train_data_scaled, train_label)\n",
    "    predicted = clf.predict(test_data_scaled)\n",
    "    print(cohen_kappa_score(test_label, predicted))\n",
    "    cohen_kappa[fold_index] = cohen_kappa_score(test_label, predicted)\n",
    "    \n",
    "    acc[fold_index] = clf.score(test_data_scaled, test_label)\n",
    "    test_label_all.append(test_label)\n",
    "    predicted_all.append(predicted)\n",
    "    conf = confusion_matrix(test_label, predicted)\n",
    "    tag = [\"0\",\"1\"]\n",
    "    sns.heatmap(conf, annot=True, xticklabels=tag, yticklabels=tag, cmap=\"YlGnBu\")\n",
    "    plt.show()\n",
    "    fold_index += 1\n",
    "print (\"average cohen_kappa_score is {}\".format(np.mean(cohen_kappa)))\n",
    "print (\"average accuracy is {}\".format(np.mean(acc)))\n",
    "print (\"average cohen_kappa_score is {}\".format(np.mean(cohen_kappa)))\n",
    "print (\"average accuracy is {}\".format(np.mean(acc)))\n",
    "conf = confusion_matrix(np.hstack(test_label_all).tolist(), np.hstack(predicted_all).tolist())\n",
    "tag = [\"0\",\"1\"]\n",
    "sns.heatmap(conf, annot=True, xticklabels=tag, yticklabels=tag, cmap=\"YlGnBu\")\n",
    "plt.title(\"Confusion Matrix (oversampled)\", fontsize=16)\n",
    "plt.show()"
   ]
  },
  {
   "cell_type": "markdown",
   "metadata": {},
   "source": [
    "## svm_rbf"
   ]
  },
  {
   "cell_type": "code",
   "execution_count": 119,
   "metadata": {},
   "outputs": [
    {
     "name": "stdout",
     "output_type": "stream",
     "text": [
      "FOLD 0\n",
      "-0.0711743772241995\n"
     ]
    },
    {
     "data": {
      "image/png": "[encoded data removed]",
      "text/plain": [
       "<matplotlib.figure.Figure at 0x10ae8f438>"
      ]
     },
     "metadata": {},
     "output_type": "display_data"
    },
    {
     "name": "stdout",
     "output_type": "stream",
     "text": [
      "FOLD 1\n",
      "-0.048247841543930914\n"
     ]
    },
    {
     "data": {
      "image/png": "[encoded data removed]",
      "text/plain": [
       "<matplotlib.figure.Figure at 0x10a429a20>"
      ]
     },
     "metadata": {},
     "output_type": "display_data"
    },
    {
     "name": "stdout",
     "output_type": "stream",
     "text": [
      "FOLD 2\n",
      "-0.050128534704370065\n"
     ]
    },
    {
     "data": {
      "image/png": "[encoded data removed]",
      "text/plain": [
       "<matplotlib.figure.Figure at 0x10a04a320>"
      ]
     },
     "metadata": {},
     "output_type": "display_data"
    },
    {
     "name": "stdout",
     "output_type": "stream",
     "text": [
      "FOLD 3\n",
      "-0.06145251396648055\n"
     ]
    },
    {
     "data": {
      "image/png": "[encoded data removed]",
      "text/plain": [
       "<matplotlib.figure.Figure at 0x1124b4e10>"
      ]
     },
     "metadata": {},
     "output_type": "display_data"
    },
    {
     "name": "stdout",
     "output_type": "stream",
     "text": [
      "FOLD 4\n",
      "-0.04565837749694257\n"
     ]
    },
    {
     "data": {
      "image/png": "[encoded data removed]",
      "text/plain": [
       "<matplotlib.figure.Figure at 0x109cbfa90>"
      ]
     },
     "metadata": {},
     "output_type": "display_data"
    },
    {
     "name": "stdout",
     "output_type": "stream",
     "text": [
      "average recall is 0.0\n",
      "average cohen_kappa_score is -0.05533232898718472\n",
      "average accuracy is 0.8765061879504964\n"
     ]
    }
   ],
   "source": [
    "clf = svm.SVC(gamma=2, C=1)\n",
    "k_folds = 5\n",
    "cohen_kappa = np.zeros(k_folds)\n",
    "acc = np.zeros(k_folds)\n",
    "recall = np.zeros(k_folds)\n",
    "\n",
    "kf = KFold(n_splits=k_folds, shuffle=True, random_state=42)\n",
    "fold_index = 0\n",
    "drop_cols = [\"Hinselmann\", \"Schiller\", \"Citology\", \"Biopsy\"]\n",
    "#drop_cols = [\"Biopsy\"]\n",
    "dat = np.array(data.drop(drop_cols,axis=1))\n",
    "label = np.array(data['Hinselmann'])\n",
    "for train_indices, test_indices in kf.split(dat):\n",
    "    print (\"FOLD {}\".format(fold_index))\n",
    "    \n",
    "    train_data, test_data = dat[train_indices], dat[test_indices]\n",
    "    train_label, test_label = label[train_indices], label[test_indices]\n",
    "    train_data_resampled, train_label_resampled = ros.fit_sample(train_data, train_label)\n",
    "    \n",
    "    minmax_scale = preprocessing.MinMaxScaler(feature_range=(0, 1))\n",
    "    train_data_scaled = minmax_scale.fit_transform(train_data_resampled)\n",
    "    test_data_scaled = minmax_scale.transform(test_data)\n",
    "    \n",
    "    clf.fit(train_data_scaled, train_label_resampled)\n",
    "    predicted = clf.predict(test_data_scaled)\n",
    "    print(cohen_kappa_score(test_label, predicted))\n",
    "    \n",
    "    recall[fold_index] = recall_score(test_label, predicted)\n",
    "    cohen_kappa[fold_index] = cohen_kappa_score(test_label, predicted)\n",
    "    \n",
    "    acc[fold_index] = clf.score(test_data_scaled, test_label)\n",
    "    \n",
    "    conf = confusion_matrix(test_label, predicted)\n",
    "    tag = [\"0\",\"1\"]\n",
    "    sns.heatmap(conf, annot=True, xticklabels=tag, yticklabels=tag, cmap=\"YlGnBu\")\n",
    "    plt.show()\n",
    "    fold_index += 1\n",
    "\n",
    "print (\"average cohen_kappa_score is {}\".format(np.mean(cohen_kappa)))\n",
    "print (\"average accuracy is {}\".format(np.mean(acc)))\n",
    "print (\"average recall is {}\".format(np.mean(recall)))    "
   ]
  },
  {
   "cell_type": "markdown",
   "metadata": {},
   "source": [
    "## decision tree"
   ]
  },
  {
   "cell_type": "code",
   "execution_count": 123,
   "metadata": {},
   "outputs": [
    {
     "name": "stdout",
     "output_type": "stream",
     "text": [
      "FOLD 0\n",
      "-0.06752730883813318\n"
     ]
    },
    {
     "data": {
      "image/png": "[encoded data removed]",
      "text/plain": [
       "<matplotlib.figure.Figure at 0x10a205898>"
      ]
     },
     "metadata": {},
     "output_type": "display_data"
    },
    {
     "name": "stdout",
     "output_type": "stream",
     "text": [
      "FOLD 1\n",
      "-0.042796005706134066\n"
     ]
    },
    {
     "data": {
      "image/png": "[encoded data removed]",
      "text/plain": [
       "<matplotlib.figure.Figure at 0x112737588>"
      ]
     },
     "metadata": {},
     "output_type": "display_data"
    },
    {
     "name": "stdout",
     "output_type": "stream",
     "text": [
      "FOLD 2\n",
      "-0.05521472392638027\n"
     ]
    },
    {
     "data": {
      "image/png": "[encoded data removed]",
      "text/plain": [
       "<matplotlib.figure.Figure at 0x10a6edbe0>"
      ]
     },
     "metadata": {},
     "output_type": "display_data"
    },
    {
     "name": "stdout",
     "output_type": "stream",
     "text": [
      "FOLD 3\n",
      "-0.05865102639296205\n"
     ]
    },
    {
     "data": {
      "image/png": "[encoded data removed]",
      "text/plain": [
       "<matplotlib.figure.Figure at 0x10a429e10>"
      ]
     },
     "metadata": {},
     "output_type": "display_data"
    },
    {
     "name": "stdout",
     "output_type": "stream",
     "text": [
      "FOLD 4\n",
      "0.05647517039922101\n"
     ]
    },
    {
     "data": {
      "image/png": "[encoded data removed]",
      "text/plain": [
       "<matplotlib.figure.Figure at 0x10a67ecc0>"
      ]
     },
     "metadata": {},
     "output_type": "display_data"
    },
    {
     "name": "stdout",
     "output_type": "stream",
     "text": [
      "average cohen_kappa_score is -0.03354277889287771\n",
      "average accuracy is 0.8811505507955937\n",
      "average recall is 0.02857142857142857\n"
     ]
    }
   ],
   "source": [
    "clf = DecisionTreeClassifier(max_depth=15)\n",
    "k_folds = 5\n",
    "cohen_kappa = np.zeros(k_folds)\n",
    "acc = np.zeros(k_folds)\n",
    "recall = np.zeros(k_folds)\n",
    "\n",
    "kf = KFold(n_splits=k_folds, shuffle=True, random_state=42)\n",
    "fold_index = 0\n",
    "drop_cols = [\"Hinselmann\", \"Schiller\", \"Citology\", \"Biopsy\"]\n",
    "#drop_cols = [\"Biopsy\"]\n",
    "dat = np.array(data.drop(drop_cols,axis=1))\n",
    "label = np.array(data[\"Hinselmann\"])\n",
    "for train_indices, test_indices in kf.split(dat):\n",
    "    print (\"FOLD {}\".format(fold_index))\n",
    "    \n",
    "    train_data, test_data = dat[train_indices], dat[test_indices]\n",
    "    train_label, test_label = label[train_indices], label[test_indices]\n",
    "    train_data_resampled, train_label_resampled = ros.fit_sample(train_data, train_label)\n",
    "    \n",
    "    minmax_scale = preprocessing.MinMaxScaler(feature_range=(0, 1))\n",
    "    train_data_scaled = minmax_scale.fit_transform(train_data_resampled)\n",
    "    test_data_scaled = minmax_scale.transform(test_data)\n",
    "    \n",
    "    clf.fit(train_data_scaled, train_label_resampled)\n",
    "    predicted = clf.predict(test_data_scaled)\n",
    "    print(cohen_kappa_score(test_label, predicted))\n",
    "    cohen_kappa[fold_index] = cohen_kappa_score(test_label, predicted)\n",
    "    \n",
    "    recall[fold_index] = recall_score(test_label, predicted)\n",
    "    acc[fold_index] = clf.score(test_data_scaled, test_label)\n",
    "    \n",
    "    conf = confusion_matrix(test_label, predicted)\n",
    "    tag = [\"0\",\"1\"]\n",
    "    sns.heatmap(conf, annot=True, xticklabels=tag, yticklabels=tag, cmap=\"YlGnBu\")\n",
    "    plt.show()\n",
    "    fold_index += 1\n",
    "print (\"average cohen_kappa_score is {}\".format(np.mean(cohen_kappa)))\n",
    "print (\"average accuracy is {}\".format(np.mean(acc)))\n",
    "print (\"average recall is {}\".format(np.mean(recall)))    "
   ]
  },
  {
   "cell_type": "markdown",
   "metadata": {},
   "source": [
    "## random forest"
   ]
  },
  {
   "cell_type": "code",
   "execution_count": 127,
   "metadata": {},
   "outputs": [
    {
     "name": "stdout",
     "output_type": "stream",
     "text": [
      "FOLD 0\n",
      "-0.06458557588805158\n"
     ]
    },
    {
     "data": {
      "image/png": "[encoded data removed]",
      "text/plain": [
       "<matplotlib.figure.Figure at 0x10ac867b8>"
      ]
     },
     "metadata": {},
     "output_type": "display_data"
    },
    {
     "name": "stdout",
     "output_type": "stream",
     "text": [
      "FOLD 1\n",
      "0.04814609850581064\n"
     ]
    },
    {
     "data": {
      "image/png": "[encoded data removed]",
      "text/plain": [
       "<matplotlib.figure.Figure at 0x10a0271d0>"
      ]
     },
     "metadata": {},
     "output_type": "display_data"
    },
    {
     "name": "stdout",
     "output_type": "stream",
     "text": [
      "FOLD 2\n",
      "-0.050128534704370065\n"
     ]
    },
    {
     "data": {
      "image/png": "[encoded data removed]",
      "text/plain": [
       "<matplotlib.figure.Figure at 0x10a25e198>"
      ]
     },
     "metadata": {},
     "output_type": "display_data"
    },
    {
     "name": "stdout",
     "output_type": "stream",
     "text": [
      "FOLD 3\n",
      "-0.05865102639296205\n"
     ]
    },
    {
     "data": {
      "image/png": "[encoded data removed]",
      "text/plain": [
       "<matplotlib.figure.Figure at 0x10a83d390>"
      ]
     },
     "metadata": {},
     "output_type": "display_data"
    },
    {
     "name": "stdout",
     "output_type": "stream",
     "text": [
      "FOLD 4\n",
      "0.06429548563611487\n"
     ]
    },
    {
     "data": {
      "image/png": "[encoded data removed]",
      "text/plain": [
       "<matplotlib.figure.Figure at 0x10a53d860>"
      ]
     },
     "metadata": {},
     "output_type": "display_data"
    },
    {
     "name": "stdout",
     "output_type": "stream",
     "text": [
      "average cohen_kappa_score is -0.012184710568691637\n",
      "average accuracy is 0.8869713042295662\n",
      "average recall is 0.06857142857142857\n"
     ]
    }
   ],
   "source": [
    "clf = RandomForestClassifier(max_depth=6, n_estimators=200, max_features=1)\n",
    "k_folds = 5\n",
    "cohen_kappa = np.zeros(k_folds)\n",
    "acc = np.zeros(k_folds)\n",
    "recall = np.zeros(k_folds)\n",
    "\n",
    "kf = KFold(n_splits=k_folds, shuffle=True, random_state=42)\n",
    "fold_index = 0\n",
    "drop_cols = [\"Hinselmann\", \"Schiller\", \"Citology\", \"Biopsy\"]\n",
    "#drop_cols = [\"Biopsy\"]\n",
    "dat = np.array(data.drop(drop_cols,axis=1))\n",
    "label = np.array(data['Hinselmann'])\n",
    "for train_indices, test_indices in kf.split(dat):\n",
    "    print (\"FOLD {}\".format(fold_index))\n",
    "    \n",
    "    train_data, test_data = dat[train_indices], dat[test_indices]\n",
    "    train_label, test_label = label[train_indices], label[test_indices]\n",
    "    train_data_resampled, train_label_resampled = ros.fit_sample(train_data, train_label)\n",
    "    \n",
    "    minmax_scale = preprocessing.MinMaxScaler(feature_range=(0, 1))\n",
    "    train_data_scaled = minmax_scale.fit_transform(train_data_resampled)\n",
    "    test_data_scaled = minmax_scale.transform(test_data)\n",
    "    \n",
    "    clf.fit(train_data_scaled, train_label_resampled)\n",
    "    predicted = clf.predict(test_data_scaled)\n",
    "    print(cohen_kappa_score(test_label, predicted))\n",
    "    \n",
    "    recall[fold_index] = recall_score(test_label, predicted)\n",
    "    cohen_kappa[fold_index] = cohen_kappa_score(test_label, predicted)\n",
    "    \n",
    "    acc[fold_index] = clf.score(test_data_scaled, test_label)\n",
    "    \n",
    "    conf = confusion_matrix(test_label, predicted)\n",
    "    tag = [\"0\",\"1\"]\n",
    "    sns.heatmap(conf, annot=True, xticklabels=tag, yticklabels=tag, cmap=\"YlGnBu\")\n",
    "    plt.show()\n",
    "    fold_index += 1\n",
    "print (\"average cohen_kappa_score is {}\".format(np.mean(cohen_kappa)))\n",
    "print (\"average accuracy is {}\".format(np.mean(acc)))\n",
    "print (\"average recall is {}\".format(np.mean(recall)))    "
   ]
  },
  {
   "cell_type": "markdown",
   "metadata": {},
   "source": [
    "## logistic regression"
   ]
  },
  {
   "cell_type": "code",
   "execution_count": 131,
   "metadata": {},
   "outputs": [
    {
     "name": "stdout",
     "output_type": "stream",
     "text": [
      "FOLD 0\n",
      "-0.025335320417287477\n"
     ]
    },
    {
     "data": {
      "image/png": "[encoded data removed]",
      "text/plain": [
       "<matplotlib.figure.Figure at 0x11271e470>"
      ]
     },
     "metadata": {},
     "output_type": "display_data"
    },
    {
     "name": "stdout",
     "output_type": "stream",
     "text": [
      "FOLD 1\n",
      "0.08291122367368708\n"
     ]
    },
    {
     "data": {
      "image/png": "[encoded data removed]",
      "text/plain": [
       "<matplotlib.figure.Figure at 0x10a09dc18>"
      ]
     },
     "metadata": {},
     "output_type": "display_data"
    },
    {
     "name": "stdout",
     "output_type": "stream",
     "text": [
      "FOLD 2\n",
      "0.04782993799822843\n"
     ]
    },
    {
     "data": {
      "image/png": "[encoded data removed]",
      "text/plain": [
       "<matplotlib.figure.Figure at 0x10a545470>"
      ]
     },
     "metadata": {},
     "output_type": "display_data"
    },
    {
     "name": "stdout",
     "output_type": "stream",
     "text": [
      "FOLD 3\n",
      "-0.04177545691906026\n"
     ]
    },
    {
     "data": {
      "image/png": "[encoded data removed]",
      "text/plain": [
       "<matplotlib.figure.Figure at 0x10aec85c0>"
      ]
     },
     "metadata": {},
     "output_type": "display_data"
    },
    {
     "name": "stdout",
     "output_type": "stream",
     "text": [
      "FOLD 4\n",
      "0.008389882788402137\n"
     ]
    },
    {
     "data": {
      "image/png": "[encoded data removed]",
      "text/plain": [
       "<matplotlib.figure.Figure at 0x10a250d30>"
      ]
     },
     "metadata": {},
     "output_type": "display_data"
    },
    {
     "name": "stdout",
     "output_type": "stream",
     "text": [
      "average cohen_kappa_score is 0.014404053424793983\n",
      "average accuracy is 0.7168366653066777\n",
      "average recall is 0.3493650793650794\n"
     ]
    }
   ],
   "source": [
    "clf = LogisticRegression()\n",
    "k_folds = 5\n",
    "cohen_kappa = np.zeros(k_folds)\n",
    "acc = np.zeros(k_folds)\n",
    "recall = np.zeros(k_folds)\n",
    "kf = KFold(n_splits=k_folds, shuffle=True, random_state=42)\n",
    "fold_index = 0\n",
    "drop_cols = [\"Hinselmann\", \"Schiller\", \"Citology\", \"Biopsy\"]\n",
    "#drop_cols = [\"Biopsy\"]\n",
    "dat = np.array(data.drop(drop_cols,axis=1))\n",
    "label = np.array(data['Hinselmann'])\n",
    "for train_indices, test_indices in kf.split(dat):\n",
    "    print (\"FOLD {}\".format(fold_index))\n",
    "    \n",
    "    train_data, test_data = dat[train_indices], dat[test_indices]\n",
    "    train_label, test_label = label[train_indices], label[test_indices]\n",
    "    train_data_resampled, train_label_resampled = ros.fit_sample(train_data, train_label)\n",
    "    \n",
    "    minmax_scale = preprocessing.MinMaxScaler(feature_range=(0, 1))\n",
    "    train_data_scaled = minmax_scale.fit_transform(train_data_resampled)\n",
    "    test_data_scaled = minmax_scale.transform(test_data)\n",
    "    \n",
    "    clf.fit(train_data_scaled, train_label_resampled)\n",
    "    predicted = clf.predict(test_data_scaled)\n",
    "    print(cohen_kappa_score(test_label, predicted))\n",
    "    cohen_kappa[fold_index] = cohen_kappa_score(test_label, predicted)\n",
    "    \n",
    "    recall[fold_index] = recall_score(test_label, predicted)\n",
    "    acc[fold_index] = clf.score(test_data_scaled, test_label)\n",
    "    \n",
    "    conf = confusion_matrix(test_label, predicted)\n",
    "    tag = [\"0\",\"1\"]\n",
    "    sns.heatmap(conf, annot=True, xticklabels=tag, yticklabels=tag, cmap=\"YlGnBu\")\n",
    "    plt.show()\n",
    "    fold_index += 1\n",
    "print (\"average cohen_kappa_score is {}\".format(np.mean(cohen_kappa)))\n",
    "print (\"average accuracy is {}\".format(np.mean(acc)))\n",
    "print (\"average recall is {}\".format(np.mean(recall)))  "
   ]
  },
  {
   "cell_type": "markdown",
   "metadata": {},
   "source": [
    "## SVM with PCA "
   ]
  },
  {
   "cell_type": "code",
   "execution_count": 137,
   "metadata": {},
   "outputs": [
    {
     "name": "stdout",
     "output_type": "stream",
     "text": [
      "FOLD 0\n",
      "-0.010614101592115066\n"
     ]
    },
    {
     "data": {
      "image/png": "[encoded data removed]",
      "text/plain": [
       "<matplotlib.figure.Figure at 0x10a027e80>"
      ]
     },
     "metadata": {},
     "output_type": "display_data"
    },
    {
     "name": "stdout",
     "output_type": "stream",
     "text": [
      "FOLD 1\n",
      "0.26808510638297867\n"
     ]
    },
    {
     "data": {
      "image/png": "[encoded data removed]",
      "text/plain": [
       "<matplotlib.figure.Figure at 0x10a027ef0>"
      ]
     },
     "metadata": {},
     "output_type": "display_data"
    },
    {
     "name": "stdout",
     "output_type": "stream",
     "text": [
      "FOLD 2\n",
      "0.028487229862475538\n"
     ]
    },
    {
     "data": {
      "image/png": "[encoded data removed]",
      "text/plain": [
       "<matplotlib.figure.Figure at 0x112737128>"
      ]
     },
     "metadata": {},
     "output_type": "display_data"
    },
    {
     "name": "stdout",
     "output_type": "stream",
     "text": [
      "FOLD 3\n",
      "0.004192872117400492\n"
     ]
    },
    {
     "data": {
      "image/png": "[encoded data removed]",
      "text/plain": [
       "<matplotlib.figure.Figure at 0x10acaa3c8>"
      ]
     },
     "metadata": {},
     "output_type": "display_data"
    },
    {
     "name": "stdout",
     "output_type": "stream",
     "text": [
      "FOLD 4\n",
      "0.026901189860320862\n"
     ]
    },
    {
     "data": {
      "image/png": "[encoded data removed]",
      "text/plain": [
       "<matplotlib.figure.Figure at 0x10a205240>"
      ]
     },
     "metadata": {},
     "output_type": "display_data"
    },
    {
     "name": "stdout",
     "output_type": "stream",
     "text": [
      "average cohen_kappa_score is 0.0634104593262121\n",
      "average accuracy is 0.8659594723242214\n",
      "average recall is 0.22912698412698412\n"
     ]
    }
   ],
   "source": [
    "pca = PCA(n_components=5)\n",
    "clf = svm.SVC(kernel=\"linear\", C=0.025)\n",
    "# clf = svm.SVC(gamma=2, C=1)\n",
    "k_folds = 5\n",
    "cohen_kappa = np.zeros(k_folds)\n",
    "acc = np.zeros(k_folds)\n",
    "recall = np.zeros(k_folds)\n",
    "\n",
    "kf = KFold(n_splits=k_folds, shuffle=True, random_state=42)\n",
    "fold_index = 0\n",
    "drop_cols = [\"Hinselmann\", \"Schiller\", \"Citology\", \"Biopsy\"]\n",
    "#drop_cols = [\"Biopsy\"]\n",
    "dat = np.array(data.drop(drop_cols,axis=1))\n",
    "label = np.array(data['Hinselmann'])\n",
    "for train_indices, test_indices in kf.split(dat):\n",
    "    print (\"FOLD {}\".format(fold_index))\n",
    "    \n",
    "    train_data, test_data = dat[train_indices], dat[test_indices]\n",
    "    train_label, test_label = label[train_indices], label[test_indices]\n",
    "    train_data_resampled, train_label_resampled = ros.fit_sample(train_data, train_label)\n",
    "    \n",
    "    minmax_scale = preprocessing.MinMaxScaler(feature_range=(0, 1))\n",
    "    train_data_scaled = minmax_scale.fit_transform(train_data_resampled)\n",
    "    test_data_scaled = minmax_scale.transform(test_data)\n",
    "    \n",
    "    train_data_scaled = pca.fit_transform(train_data_scaled)\n",
    "    test_data_scaled = pca.transform(test_data_scaled)\n",
    "    \n",
    "    clf.fit(train_data_scaled, train_label_resampled)\n",
    "    predicted = clf.predict(test_data_scaled)\n",
    "    print(cohen_kappa_score(test_label, predicted))\n",
    "    cohen_kappa[fold_index] = cohen_kappa_score(test_label, predicted)\n",
    "    \n",
    "    recall[fold_index] = recall_score(test_label, predicted)\n",
    "    acc[fold_index] = clf.score(test_data_scaled, test_label)\n",
    "    \n",
    "    conf = confusion_matrix(test_label, predicted)\n",
    "    tag = [\"0\",\"1\"]\n",
    "    sns.heatmap(conf, annot=True, xticklabels=tag, yticklabels=tag, cmap=\"YlGnBu\")\n",
    "    plt.show()\n",
    "    fold_index += 1\n",
    "print (\"average cohen_kappa_score is {}\".format(np.mean(cohen_kappa)))\n",
    "print (\"average accuracy is {}\".format(np.mean(acc)))\n",
    "print (\"average recall is {}\".format(np.mean(recall)))  "
   ]
  },
  {
   "cell_type": "markdown",
   "metadata": {},
   "source": [
    "## SVM with ISOMAP"
   ]
  },
  {
   "cell_type": "code",
   "execution_count": 129,
   "metadata": {},
   "outputs": [
    {
     "name": "stdout",
     "output_type": "stream",
     "text": [
      "FOLD 0\n",
      "0.19475655430711603\n"
     ]
    },
    {
     "data": {
      "image/png": "[encoded data removed]",
      "text/plain": [
       "<matplotlib.figure.Figure at 0x116ce2550>"
      ]
     },
     "metadata": {},
     "output_type": "display_data"
    },
    {
     "name": "stdout",
     "output_type": "stream",
     "text": [
      "FOLD 1\n",
      "0.08311575282854655\n"
     ]
    },
    {
     "data": {
      "image/png": "[encoded data removed]",
      "text/plain": [
       "<matplotlib.figure.Figure at 0x11786dd30>"
      ]
     },
     "metadata": {},
     "output_type": "display_data"
    },
    {
     "name": "stdout",
     "output_type": "stream",
     "text": [
      "FOLD 2\n",
      "0.11735089078233929\n"
     ]
    },
    {
     "data": {
      "image/png": "[encoded data removed]",
      "text/plain": [
       "<matplotlib.figure.Figure at 0x11736a7f0>"
      ]
     },
     "metadata": {},
     "output_type": "display_data"
    },
    {
     "name": "stdout",
     "output_type": "stream",
     "text": [
      "FOLD 3\n",
      "-0.000302571860816947\n"
     ]
    },
    {
     "data": {
      "image/png": "[encoded data removed]",
      "text/plain": [
       "<matplotlib.figure.Figure at 0x11e227cc0>"
      ]
     },
     "metadata": {},
     "output_type": "display_data"
    },
    {
     "name": "stdout",
     "output_type": "stream",
     "text": [
      "FOLD 4\n",
      "0.27216836131473154\n"
     ]
    },
    {
     "data": {
      "image/png": "[encoded data removed]",
      "text/plain": [
       "<matplotlib.figure.Figure at 0x116dbfc50>"
      ]
     },
     "metadata": {},
     "output_type": "display_data"
    },
    {
     "name": "stdout",
     "output_type": "stream",
     "text": [
      "average cohen_kappa_score is 0.1334177974743833\n",
      "average accuracy is 0.6512919896640825\n"
     ]
    }
   ],
   "source": [
    "isomap = Isomap(n_components=5)\n",
    "# clf = svm.SVC(kernel=\"linear\", C=0.025)\n",
    "clf = svm.SVC(gamma=2, C=1)\n",
    "k_folds = 5\n",
    "cohen_kappa = np.zeros(k_folds)\n",
    "acc = np.zeros(k_folds)\n",
    "kf = KFold(n_splits=k_folds,shuffle=True)\n",
    "\n",
    "fold_index = 0\n",
    "#drop_cols = [\"Hinselmann\", \"Schiller\", \"Citology\", \"Biopsy\"]\n",
    "drop_cols = [\"Biopsy\"]\n",
    "dat = np.array(data.drop(drop_cols,axis=1))\n",
    "label = np.array(data['Citology'])\n",
    "for train_indices, test_indices in kf.split(dat):\n",
    "    print (\"FOLD {}\".format(fold_index))\n",
    "    \n",
    "    train_data, test_data = dat[train_indices], dat[test_indices]\n",
    "    train_label, test_label = label[train_indices], label[test_indices]\n",
    "    train_data_resampled, train_label_resampled = ros.fit_sample(train_data, train_label)\n",
    "    \n",
    "    minmax_scale = preprocessing.MinMaxScaler(feature_range=(0, 1))\n",
    "    train_data_scaled = minmax_scale.fit_transform(train_data_resampled)\n",
    "    test_data_scaled = minmax_scale.transform(test_data)\n",
    "    \n",
    "    train_data_scaled = isomap.fit_transform(train_data_scaled)\n",
    "    test_data_scaled = isomap.transform(test_data_scaled)\n",
    "    \n",
    "    clf.fit(train_data_scaled, train_label_resampled)\n",
    "    predicted = clf.predict(test_data_scaled)\n",
    "    print(cohen_kappa_score(test_label, predicted))\n",
    "    cohen_kappa[fold_index] = cohen_kappa_score(test_label, predicted)\n",
    "    \n",
    "    acc[fold_index] = clf.score(test_data_scaled, test_label)\n",
    "    \n",
    "    conf = confusion_matrix(test_label, predicted)\n",
    "    tag = [\"0\",\"1\"]\n",
    "    sns.heatmap(conf, annot=True, xticklabels=tag, yticklabels=tag, cmap=\"YlGnBu\")\n",
    "    plt.show()\n",
    "    fold_index += 1\n",
    "print (\"average cohen_kappa_score is {}\".format(np.mean(cohen_kappa)))\n",
    "print (\"average accuracy is {}\".format(np.mean(acc)))"
   ]
  },
  {
   "cell_type": "markdown",
   "metadata": {},
   "source": [
    "## KNN"
   ]
  },
  {
   "cell_type": "code",
   "execution_count": 142,
   "metadata": {},
   "outputs": [
    {
     "name": "stdout",
     "output_type": "stream",
     "text": [
      "FOLD 0\n",
      "0.01787487586891745\n",
      "FOLD 1\n",
      "-0.040322580645161255\n",
      "FOLD 2\n",
      "-0.05599214145383091\n",
      "FOLD 3\n",
      "-0.05211726384364823\n",
      "FOLD 4\n",
      "0.15503397158739973\n",
      "average cohen_kappa_score is 0.004895372302735357\n",
      "average accuracy is 0.8881476948184414\n",
      "average recall is 0.08214285714285714\n"
     ]
    }
   ],
   "source": [
    "cohen_knn = []\n",
    "acc_knn = []\n",
    "for i in range(1,2):\n",
    "    clf = KNeighborsClassifier(n_neighbors=i)\n",
    "    k_folds = 5\n",
    "    cohen_kappa = np.zeros(k_folds)\n",
    "    acc = np.zeros(k_folds)\n",
    "    recall = np.zeros(k_folds)\n",
    "    \n",
    "    kf = KFold(n_splits=k_folds, shuffle=True, random_state=42)\n",
    "    fold_index = 0\n",
    "    drop_cols = [\"Hinselmann\", \"Schiller\", \"Citology\", \"Biopsy\"]\n",
    "    #drop_cols = [\"Biopsy\"]\n",
    "    dat = np.array(data.drop(drop_cols,axis=1))\n",
    "    label = np.array(data['Hinselmann'])\n",
    "    for train_indices, test_indices in kf.split(dat):\n",
    "        print (\"FOLD {}\".format(fold_index))\n",
    "\n",
    "        train_data, test_data = dat[train_indices], dat[test_indices]\n",
    "        train_label, test_label = label[train_indices], label[test_indices]\n",
    "        train_data_resampled, train_label_resampled = ros.fit_sample(train_data, train_label)\n",
    "\n",
    "        minmax_scale = preprocessing.MinMaxScaler(feature_range=(0, 1))\n",
    "        train_data_scaled = minmax_scale.fit_transform(train_data_resampled)\n",
    "        test_data_scaled = minmax_scale.transform(test_data)\n",
    "\n",
    "        clf.fit(train_data_scaled, train_label_resampled)\n",
    "        predicted = clf.predict(test_data_scaled)\n",
    "        print(cohen_kappa_score(test_label, predicted))\n",
    "        cohen_kappa[fold_index] = cohen_kappa_score(test_label, predicted)\n",
    "\n",
    "        recall[fold_index] = recall_score(test_label, predicted)\n",
    "        acc[fold_index] = clf.score(test_data_scaled, test_label)\n",
    "\n",
    "#         conf = confusion_matrix(test_label, predicted)\n",
    "#         tag = [\"0\",\"1\"]\n",
    "#         sns.heatmap(conf, annot=True, xticklabels=tag, yticklabels=tag, cmap=\"YlGnBu\")\n",
    "#         plt.show()\n",
    "        fold_index += 1\n",
    "    print (\"average cohen_kappa_score is {}\".format(np.mean(cohen_kappa)))\n",
    "    print (\"average accuracy is {}\".format(np.mean(acc)))\n",
    "    cohen_knn.append(np.mean(cohen_kappa))\n",
    "    acc_knn.append(np.mean(acc))\n",
    "    print (\"average recall is {}\".format(np.mean(recall)))  "
   ]
  },
  {
   "cell_type": "code",
   "execution_count": 79,
   "metadata": {},
   "outputs": [
    {
     "data": {
      "image/png": "[encoded data removed]",
      "text/plain": [
       "<matplotlib.figure.Figure at 0x10a6337f0>"
      ]
     },
     "metadata": {},
     "output_type": "display_data"
    }
   ],
   "source": [
    "plot(cohen_knn)\n",
    "plt.ylabel('average cohen_kappa_score')\n",
    "plt.xlabel('K')\n",
    "plt.show()"
   ]
  },
  {
   "cell_type": "code",
   "execution_count": 80,
   "metadata": {},
   "outputs": [
    {
     "data": {
      "image/png": "[encoded data removed]",
      "text/plain": [
       "<matplotlib.figure.Figure at 0x10a6339b0>"
      ]
     },
     "metadata": {},
     "output_type": "display_data"
    }
   ],
   "source": [
    "plot(acc_knn)\n",
    "plt.ylabel('average accuracy')\n",
    "plt.xlabel('K')\n",
    "plt.show()"
   ]
  }
 ],
 "metadata": {
  "kernelspec": {
   "display_name": "Python 3",
   "language": "python",
   "name": "python3"
  },
  "language_info": {
   "codemirror_mode": {
    "name": "ipython",
    "version": 3
   },
   "file_extension": ".py",
   "mimetype": "text/x-python",
   "name": "python",
   "nbconvert_exporter": "python",
   "pygments_lexer": "ipython3",
   "version": "3.6.3"
  }
 },
 "nbformat": 4,
 "nbformat_minor": 2
}
